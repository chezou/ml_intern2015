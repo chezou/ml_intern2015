{
 "cells": [
  {
   "cell_type": "markdown",
   "metadata": {},
   "source": [
    "# Cookpadのレシピから作ったword2vecモデル\n",
    "\n",
    "gensimを使ってword2vecのモデルを扱います。\n",
    "\n",
    "Document: https://radimrehurek.com/gensim/models/word2vec.html"
   ]
  },
  {
   "cell_type": "code",
   "execution_count": 1,
   "metadata": {
    "collapsed": false
   },
   "outputs": [],
   "source": [
    "from os.path import expanduser\n",
    "from gensim.models import word2vec\n",
    "\n",
    "model = word2vec.Word2Vec.load_word2vec_format(expanduser(\"~/data/recipe_steps.bin\"), binary=True)"
   ]
  },
  {
   "cell_type": "code",
   "execution_count": 2,
   "metadata": {
    "collapsed": false
   },
   "outputs": [],
   "source": [
    "def print_output(results):\n",
    "    for index, result in enumerate(results):\n",
    "        print \"%i\\t%s\\t%s\" %(index+1, result[0], result[1])"
   ]
  },
  {
   "cell_type": "code",
   "execution_count": 3,
   "metadata": {
    "collapsed": false
   },
   "outputs": [
    {
     "name": "stdout",
     "output_type": "stream",
     "text": [
      "1\tチョコレート\t0.937817335129\n",
      "2\tガナッシュ\t0.756836891174\n",
      "3\tマシュマロ\t0.746165752411\n",
      "4\tビターチョコ\t0.743986606598\n",
      "5\tクランチ\t0.729664921761\n",
      "6\tココア\t0.726449847221\n",
      "7\tスイートチョコ\t0.713912725449\n",
      "8\tキャラメル\t0.696059465408\n",
      "9\tビターチョコレート\t0.696030557156\n",
      "10\tアポロ\t0.689556598663\n"
     ]
    }
   ],
   "source": [
    "# \"チョコ\"に類似している語\n",
    "print_output(model.most_similar(positive = [u'チョコ']))"
   ]
  },
  {
   "cell_type": "code",
   "execution_count": 4,
   "metadata": {
    "collapsed": false
   },
   "outputs": [
    {
     "name": "stdout",
     "output_type": "stream",
     "text": [
      "1\t白味噌\t0.638798058033\n",
      "2\t白みそ\t0.58601641655\n",
      "3\t八丁\t0.562026798725\n",
      "4\t米本\t0.529440641403\n",
      "5\tサンジルシ\t0.524992108345\n",
      "6\t三河\t0.520857572556\n",
      "7\t石野\t0.512676477432\n",
      "8\t味噌\t0.504440426826\n",
      "9\tタケヤ\t0.502122163773\n",
      "10\t李白\t0.502100586891\n"
     ]
    }
   ],
   "source": [
    "# 赤味噌 - 名古屋 + 京都\n",
    "print_output(model.most_similar(positive = [u'赤味噌', u'京都'], negative=[u'名古屋']))"
   ]
  },
  {
   "cell_type": "markdown",
   "metadata": {},
   "source": [
    "## Let's try"
   ]
  },
  {
   "cell_type": "code",
   "execution_count": null,
   "metadata": {
    "collapsed": true
   },
   "outputs": [],
   "source": []
  }
 ],
 "metadata": {
  "kernelspec": {
   "display_name": "Python 2",
   "language": "python",
   "name": "python2"
  },
  "language_info": {
   "codemirror_mode": {
    "name": "ipython",
    "version": 2
   },
   "file_extension": ".py",
   "mimetype": "text/x-python",
   "name": "python",
   "nbconvert_exporter": "python",
   "pygments_lexer": "ipython2",
   "version": "2.7.10"
  }
 },
 "nbformat": 4,
 "nbformat_minor": 0
}
